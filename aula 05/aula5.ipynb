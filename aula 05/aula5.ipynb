{
 "cells": [
  {
   "cell_type": "code",
   "execution_count": null,
   "metadata": {},
   "outputs": [],
   "source": [
    "\"The children were playing in the leaves yesterday.\"\n",
    "\n",
    "\"She studies computer science and is taking three courses.\"\n",
    "\n",
    "\"The wolves howled at the moon while mice scurried in the grass.\"\n",
    "\n",
    "\"He was driving faster than the cars around him.\"\n",
    "\n",
    "\"The chefs used sharp knives to prepare the tastiest dishes.\"\n"
   ]
  },
  {
   "cell_type": "code",
   "execution_count": null,
   "metadata": {},
   "outputs": [
    {
     "name": "stdout",
     "output_type": "stream",
     "text": [
      "['The children were playing in the leaves yesterday.', 'She studies computer science and is taking three courses', 'The wolves howled at the moon while mice scurried in the grass.', 'He was driving faster than the cars around him', 'The chefs used sharp knives to prepare the tastiest dishes.']\n"
     ]
    },
    {
     "name": "stderr",
     "output_type": "stream",
     "text": [
      "[nltk_data] Downloading package wordnet to\n",
      "[nltk_data]     /home/codespace/nltk_data...\n",
      "[nltk_data]   Package wordnet is already up-to-date!\n",
      "[nltk_data] Downloading package omw-1.4 to\n",
      "[nltk_data]     /home/codespace/nltk_data...\n",
      "[nltk_data]   Package omw-1.4 is already up-to-date!\n"
     ]
    }
   ],
   "source": [
    "import nltk\n",
    "from nltk.stem import WordNetLemmatizer\n",
    "\n",
    "\n",
    "nltk.download('wordnet')\n",
    "nltk.download('omw-1.4')\n",
    "\n",
    "\n",
    "lemmatizer = WordNetLemmatizer()\n",
    "\n",
    "\n",
    "palavras = [\"The children were playing in the leaves yesterday.\", \n",
    "            \"She studies computer science and is taking three courses\",\n",
    "             \"The wolves howled at the moon while mice scurried in the grass.\", \n",
    "            \"He was driving faster than the cars around him\", \n",
    "            \"The chefs used sharp knives to prepare the tastiest dishes.\"]\n",
    "\n",
    "\n",
    "lemas = [lemmatizer.lemmatize(palavra) for palavra in palavras]\n",
    "\n",
    "print(lemas)\n"
   ]
  }
 ],
 "metadata": {
  "kernelspec": {
   "display_name": "Python 3",
   "language": "python",
   "name": "python3"
  },
  "language_info": {
   "codemirror_mode": {
    "name": "ipython",
    "version": 3
   },
   "file_extension": ".py",
   "mimetype": "text/x-python",
   "name": "python",
   "nbconvert_exporter": "python",
   "pygments_lexer": "ipython3",
   "version": "3.12.1"
  }
 },
 "nbformat": 4,
 "nbformat_minor": 2
}
